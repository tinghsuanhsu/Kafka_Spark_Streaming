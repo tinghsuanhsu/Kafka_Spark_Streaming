{
 "cells": [
  {
   "cell_type": "markdown",
   "metadata": {},
   "source": [
    "# Kafka Producer"
   ]
  },
  {
   "cell_type": "code",
   "execution_count": 2,
   "metadata": {
    "colab": {},
    "colab_type": "code",
    "collapsed": true,
    "id": "8M_IbSk3LgdY"
   },
   "outputs": [],
   "source": [
    "from kafka.producer import KafkaProducer\n",
    "from datetime import datetime \n",
    "from time import sleep\n",
    "from random import randint\n",
    "import geohash \n",
    "import json"
   ]
  },
  {
   "cell_type": "code",
   "execution_count": 3,
   "metadata": {
    "colab": {},
    "colab_type": "code",
    "id": "8olavR5ALgdc"
   },
   "outputs": [
    {
     "name": "stdout",
     "output_type": "stream",
     "text": [
      "Message published successfully. Data: ['-36.8741', '143.91', '9', '41.9', '9.2', '14', ' 0.12G', '2019-05-24 16:23:35', '1']\n",
      "Message published successfully. Data: ['-37.57', '148.034', '11', '40.4', '19.3', '26', ' 0.00G', '2019-05-24 16:23:40', '1']\n",
      "Message published successfully. Data: ['-37.236', '141.176', '14', '48.1', '13.7', '19', ' 0.35G', '2019-05-24 16:23:45', '1']\n",
      "Message published successfully. Data: ['-36.759', '145.179', '18', '55.6', '12.8', '19', ' 0.00I', '2019-05-24 16:23:50', '1']\n",
      "Message published successfully. Data: ['-37.0585', '143.8589', '19', '59.7', '7.4', '14', ' 0.63G', '2019-05-24 16:23:55', '1']\n",
      "Message published successfully. Data: ['-36.3769', '144.7505', '14', '50.9', '5.9', '13', ' 0.00I', '2019-05-24 16:24:00', '1']\n",
      "Message published successfully. Data: ['-37.61', '149.279', '20', '57.4', '10.9', '22', ' 0.00I', '2019-05-24 16:24:05', '1']\n",
      "Message published successfully. Data: ['-37.295', '144.377', '16', '54.8', '8.3', '9.9', ' 0.00G', '2019-05-24 16:24:10', '1']\n",
      "Message published successfully. Data: ['-38.527', '143.493', '19', '51.5', '10.2', '20', ' 0.00I', '2019-05-24 16:24:15', '1']\n",
      "Message published successfully. Data: ['-36.4125', '143.1189', '12', '47.9', '6.7', '11.1', ' 0.00G', '2019-05-24 16:24:20', '1']\n",
      "Message published successfully. Data: ['-37.5915', '143.0015', '17', '52', '8.8', '15', ' 0.00I', '2019-05-24 16:24:25', '1']\n",
      "Message published successfully. Data: ['-35.937', '145.607', '10', '43.3', '2.6', '7', ' 0.00I', '2019-05-24 16:24:30', '1']\n",
      "Message published successfully. Data: ['-37.8387', '144.6301', '11', '41.4', '7.7', '15', ' 0.03G', '2019-05-24 16:24:35', '1']\n"
     ]
    },
    {
     "ename": "KeyboardInterrupt",
     "evalue": "",
     "output_type": "error",
     "traceback": [
      "\u001b[0;31m---------------------------------------------------------------------------\u001b[0m",
      "\u001b[0;31mKeyboardInterrupt\u001b[0m                         Traceback (most recent call last)",
      "\u001b[0;32m<ipython-input-3-8b90be9033f7>\u001b[0m in \u001b[0;36m<module>\u001b[0;34m()\u001b[0m\n\u001b[1;32m     68\u001b[0m     \u001b[0mproducer\u001b[0m \u001b[0;34m=\u001b[0m \u001b[0mconnect_kafka_producer\u001b[0m\u001b[0;34m(\u001b[0m\u001b[0;34m)\u001b[0m\u001b[0;34m\u001b[0m\u001b[0m\n\u001b[1;32m     69\u001b[0m     \u001b[0mf\u001b[0m \u001b[0;34m=\u001b[0m \u001b[0mopen\u001b[0m\u001b[0;34m(\u001b[0m\u001b[0;34m'../Assignment/Assignment_2/Data/climate_streaming.csv'\u001b[0m\u001b[0;34m)\u001b[0m\u001b[0;34m.\u001b[0m\u001b[0mread\u001b[0m\u001b[0;34m(\u001b[0m\u001b[0;34m)\u001b[0m\u001b[0;34m.\u001b[0m\u001b[0msplitlines\u001b[0m\u001b[0;34m(\u001b[0m\u001b[0;34m)\u001b[0m\u001b[0;34m[\u001b[0m\u001b[0;36m1\u001b[0m\u001b[0;34m:\u001b[0m\u001b[0;34m]\u001b[0m\u001b[0;34m\u001b[0m\u001b[0m\n\u001b[0;32m---> 70\u001b[0;31m     \u001b[0mloopsendFile\u001b[0m\u001b[0;34m(\u001b[0m\u001b[0;34m)\u001b[0m\u001b[0;34m\u001b[0m\u001b[0m\n\u001b[0m",
      "\u001b[0;32m<ipython-input-3-8b90be9033f7>\u001b[0m in \u001b[0;36mloopsendFile\u001b[0;34m()\u001b[0m\n\u001b[1;32m     62\u001b[0m     \u001b[0mx\u001b[0m \u001b[0;34m=\u001b[0m \u001b[0mrange\u001b[0m\u001b[0;34m(\u001b[0m\u001b[0;36m7\u001b[0m\u001b[0;34m)\u001b[0m\u001b[0;34m\u001b[0m\u001b[0m\n\u001b[1;32m     63\u001b[0m     \u001b[0;32mfor\u001b[0m \u001b[0mn\u001b[0m \u001b[0;32min\u001b[0m \u001b[0mx\u001b[0m\u001b[0;34m:\u001b[0m\u001b[0;34m\u001b[0m\u001b[0m\n\u001b[0;32m---> 64\u001b[0;31m         \u001b[0msendcsv\u001b[0m\u001b[0;34m(\u001b[0m\u001b[0mproducer\u001b[0m\u001b[0;34m,\u001b[0m \u001b[0mf\u001b[0m\u001b[0;34m,\u001b[0m \u001b[0;36m1\u001b[0m\u001b[0;34m)\u001b[0m\u001b[0;34m\u001b[0m\u001b[0m\n\u001b[0m\u001b[1;32m     65\u001b[0m \u001b[0;34m\u001b[0m\u001b[0m\n\u001b[1;32m     66\u001b[0m \u001b[0;32mif\u001b[0m \u001b[0m__name__\u001b[0m \u001b[0;34m==\u001b[0m \u001b[0;34m'__main__'\u001b[0m\u001b[0;34m:\u001b[0m\u001b[0;34m\u001b[0m\u001b[0m\n",
      "\u001b[0;32m<ipython-input-3-8b90be9033f7>\u001b[0m in \u001b[0;36msendcsv\u001b[0;34m(producer, f, sender_id)\u001b[0m\n\u001b[1;32m     44\u001b[0m     \u001b[0;32mwhile\u001b[0m \u001b[0mlen\u001b[0m\u001b[0;34m(\u001b[0m\u001b[0mf\u001b[0m\u001b[0;34m)\u001b[0m \u001b[0;34m>\u001b[0m \u001b[0;36m0\u001b[0m\u001b[0;34m:\u001b[0m\u001b[0;34m\u001b[0m\u001b[0m\n\u001b[1;32m     45\u001b[0m \u001b[0;34m\u001b[0m\u001b[0m\n\u001b[0;32m---> 46\u001b[0;31m         \u001b[0msleep\u001b[0m\u001b[0;34m(\u001b[0m\u001b[0;36m5\u001b[0m\u001b[0;34m)\u001b[0m \u001b[0;31m# time interval\u001b[0m\u001b[0;34m\u001b[0m\u001b[0m\n\u001b[0m\u001b[1;32m     47\u001b[0m         \u001b[0mrandom_line\u001b[0m \u001b[0;34m=\u001b[0m \u001b[0mrandint\u001b[0m\u001b[0;34m(\u001b[0m\u001b[0;36m1\u001b[0m\u001b[0;34m,\u001b[0m\u001b[0mlen\u001b[0m\u001b[0;34m(\u001b[0m\u001b[0mf\u001b[0m\u001b[0;34m)\u001b[0m\u001b[0;34m)\u001b[0m \u001b[0;31m# select a random line\u001b[0m\u001b[0;34m\u001b[0m\u001b[0m\n\u001b[1;32m     48\u001b[0m \u001b[0;34m\u001b[0m\u001b[0m\n",
      "\u001b[0;31mKeyboardInterrupt\u001b[0m: "
     ]
    }
   ],
   "source": [
    "# create a producer\n",
    "def connect_kafka_producer():\n",
    "    _producer = None\n",
    "    try:\n",
    "        _producer = KafkaProducer(bootstrap_servers=['localhost:9092'],\n",
    "                        value_serializer=lambda x: json.dumps(x).encode('utf-8')) # send data as a json object\n",
    "        \n",
    "    except Exception as ex:\n",
    "        print('Exception while connecting Kafka.')\n",
    "        print(str(ex))\n",
    "    finally:\n",
    "        return _producer\n",
    "    \n",
    "# send message from producer\n",
    "def publish_message(producer_instance, topic_name, value):\n",
    "    try:\n",
    "        \n",
    "        # note that the application is responsible for encoding messages to type json    \n",
    "        # send the content in a json format \n",
    "        content = {'latitude':value[0], \n",
    "                   'longitude':value[1], \n",
    "                   'air_temperature_celcius':value[2], \n",
    "                   'relative_humidity':value[3],\n",
    "                   'windspeed_knots':value[4],\n",
    "                   'max_wind_speed':value[5],\n",
    "                   'precipitation':value[6][1:],\n",
    "                   'geohash':geohash.encode(float(value[0]), float(value[1]), precision=5),\n",
    "                   'created_time': value[7], \n",
    "                   'sender_id': value[8]} \n",
    "        \n",
    "        producer.send(topic_name, content)\n",
    "        producer_instance.flush()\n",
    "        \n",
    "        print('Message published successfully. Data: ' + str(value))\n",
    "    except Exception as ex:\n",
    "        print('Exception in publishing message.')\n",
    "        print(str(ex))\n",
    "        \n",
    "#  read file and randomly feed a data from file       \n",
    "def sendcsv(producer, f, sender_id):\n",
    "    \n",
    "    sender_id = str(sender_id)\n",
    "    \n",
    "    # publish the message if the file still has records left in the file \n",
    "    while len(f) > 0: \n",
    "        \n",
    "        sleep(5) # time interval\n",
    "        random_line = randint(1,len(f)) # select a random record \n",
    "        \n",
    "        \n",
    "        try: \n",
    "            formated_time = datetime.now().strftime('%Y-%m-%d %H:%M:%S') # format time \n",
    "            line = f.pop(random_line) + ',' + formated_time + ',' + sender_id # remove one line out of the file for sending\n",
    "            line = line.split(',')\n",
    "            publish_message(producer, \"climate\", line)    \n",
    "            \n",
    "        except IndexError:\n",
    "            print ('No more climate streaming data.')\n",
    "            break\n",
    "\n",
    "\n",
    "if __name__ == '__main__':\n",
    "\n",
    "    producer = connect_kafka_producer()\n",
    "    f = open('../Data/climate_streaming.csv').read().splitlines()[1:]\n",
    "    sendcsv(producer, f, 1)"
   ]
  }
 ],
 "metadata": {
  "colab": {
   "name": "Assignment_TaskC_Producer1.ipynb",
   "provenance": [],
   "version": "0.3.2"
  },
  "kernelspec": {
   "display_name": "Python 3",
   "language": "python",
   "name": "python3"
  },
  "language_info": {
   "codemirror_mode": {
    "name": "ipython",
    "version": 3
   },
   "file_extension": ".py",
   "mimetype": "text/x-python",
   "name": "python",
   "nbconvert_exporter": "python",
   "pygments_lexer": "ipython3",
   "version": "3.6.7"
  }
 },
 "nbformat": 4,
 "nbformat_minor": 1
}
